{
  "nbformat": 4,
  "nbformat_minor": 0,
  "metadata": {
    "colab": {
      "name": "PerceptronIRIS.ipynb",
      "provenance": []
    },
    "kernelspec": {
      "name": "python3",
      "display_name": "Python 3"
    }
  },
  "cells": [
    {
      "cell_type": "code",
      "metadata": {
        "id": "d3hsaroe-Rjs",
        "colab_type": "code",
        "colab": {}
      },
      "source": [
        "from random import random\n",
        "w1 = random()\n",
        "w2 = random()\n",
        "w3 = random()\n",
        "w4 = random()\n",
        "w5 = 1\n",
        "x0 = -1\n",
        "n = 0.4\n",
        "epocas = 0\n",
        "erro = 1"
      ],
      "execution_count": null,
      "outputs": []
    },
    {
      "cell_type": "code",
      "metadata": {
        "id": "jDJR6KV7_NlN",
        "colab_type": "code",
        "colab": {}
      },
      "source": [
        "f=open(\"/content/entradairis.txt\",\"r\")\n",
        "contents=f.read()\n",
        "print(contents)\n",
        "type(contents)\n",
        "f=open(\"/content/saidasiris.txt\",\"r\")\n",
        "contents2=f.read()\n",
        "print(contents2)\n",
        "type(contents2)"
      ],
      "execution_count": null,
      "outputs": []
    },
    {
      "cell_type": "code",
      "metadata": {
        "id": "wpu_xX_LFIWO",
        "colab_type": "code",
        "colab": {}
      },
      "source": [
        "import re\n",
        "def Convert(string):\n",
        "    li = list(re.split(',|\\n',contents))\n",
        "    return li\n",
        "a_string = contents\n",
        "import numpy as np\n",
        "my_array = np.array((Convert(a_string)))\n",
        "a = np.reshape(my_array, (100,4))\n",
        "y = a.astype(np.float)\n",
        "print(y)"
      ],
      "execution_count": null,
      "outputs": []
    },
    {
      "cell_type": "code",
      "metadata": {
        "id": "fo9jz3afHv_a",
        "colab_type": "code",
        "colab": {}
      },
      "source": [
        "def Convert(string):\n",
        "    li = list(string.split(\"\\n\"))\n",
        "    return li\n",
        "b_string = contents2.rstrip(\"\\n\")\n",
        "import numpy as np\n",
        "my_array2 = np.array((Convert(b_string)))\n",
        "b = np.reshape(my_array2, (100,1))\n",
        "z = b.astype(np.float)\n",
        "print(z)"
      ],
      "execution_count": null,
      "outputs": []
    },
    {
      "cell_type": "code",
      "metadata": {
        "id": "rxEo76a4IV4G",
        "colab_type": "code",
        "colab": {
          "base_uri": "https://localhost:8080/",
          "height": 102
        },
        "outputId": "847dac45-1946-4b79-c2af-0ef56c4872df"
      },
      "source": [
        "while erro == 1:\n",
        "      erro = 0\n",
        "      for k in range(100)\n",
        "         g= w1* (y[k,0]) + w2* (y[k,1]) + w3* (y[k,2]) + w4* (y[k,3]) + x0*w5 \n",
        "         if   g < 0:\n",
        "              u = 1.\n",
        "         else:\n",
        "              u = 2.\n",
        "         if u != z[k,0]:\n",
        "            w1 = w1 + n * ((z[k,0]) - u) * (y[k,0])\n",
        "            w2 = w2 + n * ((z[k,0]) - u) * (y[k,1])\n",
        "            w3 = w3 + n * ((z[k,0]) - u) * (y[k,2])\n",
        "            w4 = w4 + n * ((z[k,0]) - u) * (y[k,3])\n",
        "            w5 = w5 + n * ((z[k,0]) - u) *  x0\n",
        "            erro = 1 \n",
        "            epocas += 1             \n",
        "print(w1)\n",
        "print(w2)\n",
        "print(w3)\n",
        "print(w4)\n",
        "print(epocas)"
      ],
      "execution_count": null,
      "outputs": [
        {
          "output_type": "stream",
          "text": [
            "-0.18209962118590672\n",
            "-1.5731984087685782\n",
            "2.5118189316790533\n",
            "1.6613683407869724\n",
            "5\n"
          ],
          "name": "stdout"
        }
      ]
    }
  ]
}